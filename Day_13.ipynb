{
  "nbformat": 4,
  "nbformat_minor": 0,
  "metadata": {
    "colab": {
      "provenance": [],
      "gpuType": "T4",
      "authorship_tag": "ABX9TyPr7LQauBii43vEX6KZYiK8",
      "include_colab_link": true
    },
    "kernelspec": {
      "name": "python3",
      "display_name": "Python 3"
    },
    "language_info": {
      "name": "python"
    },
    "accelerator": "GPU"
  },
  "cells": [
    {
      "cell_type": "markdown",
      "metadata": {
        "id": "view-in-github",
        "colab_type": "text"
      },
      "source": [
        "<a href=\"https://colab.research.google.com/github/Vishal13252/100-Days-GPU-Challenge/blob/master/Day_13.ipynb\" target=\"_parent\"><img src=\"https://colab.research.google.com/assets/colab-badge.svg\" alt=\"Open In Colab\"/></a>"
      ]
    },
    {
      "cell_type": "code",
      "execution_count": 1,
      "metadata": {
        "colab": {
          "base_uri": "https://localhost:8080/"
        },
        "id": "rOVDlsLuZqjG",
        "outputId": "483bd4df-a9e5-41f2-c95c-ab083534f0f4"
      },
      "outputs": [
        {
          "output_type": "stream",
          "name": "stdout",
          "text": [
            "Writing parallel_reduction_shared_memory.cu\n"
          ]
        }
      ],
      "source": [
        "%%writefile parallel_reduction_shared_memory.cu\n",
        "\n",
        "#include <iostream>\n",
        "#include <cuda.h>\n",
        "\n",
        "__global__ void reduce_sum_shared(int *input, int *output, int n) {\n",
        "    extern __shared__ int sdata[];\n",
        "\n",
        "    int tid = threadIdx.x;\n",
        "    int i = blockIdx.x * blockDim.x + threadIdx.x;\n",
        "\n",
        "    // Load input to shared memory\n",
        "    sdata[tid] = (i < n) ? input[i] : 0;\n",
        "    __syncthreads();\n",
        "\n",
        "    // Do reduction in shared memory\n",
        "    for (int s = blockDim.x / 2; s > 0; s >>= 1) {\n",
        "        if (tid < s) {\n",
        "            sdata[tid] += sdata[tid + s];\n",
        "        }\n",
        "        __syncthreads();\n",
        "    }\n",
        "\n",
        "    // Write result for this block to output\n",
        "    if (tid == 0) {\n",
        "        output[blockIdx.x] = sdata[0];\n",
        "    }\n",
        "}\n",
        "\n",
        "int main() {\n",
        "    const int N = 1024;\n",
        "    int h_input[N], h_output[N / 256];\n",
        "\n",
        "    for (int i = 0; i < N; i++) h_input[i] = 1;\n",
        "\n",
        "    int *d_input, *d_output;\n",
        "    cudaMalloc(&d_input, N * sizeof(int));\n",
        "    cudaMalloc(&d_output, (N / 256) * sizeof(int));\n",
        "\n",
        "    cudaMemcpy(d_input, h_input, N * sizeof(int), cudaMemcpyHostToDevice);\n",
        "\n",
        "    reduce_sum_shared<<<N / 256, 256, 256 * sizeof(int)>>>(d_input, d_output, N);\n",
        "\n",
        "    cudaMemcpy(h_output, d_output, (N / 256) * sizeof(int), cudaMemcpyDeviceToHost);\n",
        "\n",
        "    // Final sum from blocks\n",
        "    int total = 0;\n",
        "    for (int i = 0; i < N / 256; i++) total += h_output[i];\n",
        "\n",
        "    std::cout << \"Total Sum: \" << total << std::endl;\n",
        "\n",
        "    cudaFree(d_input);\n",
        "    cudaFree(d_output);\n",
        "\n",
        "    return 0;\n",
        "}\n"
      ]
    },
    {
      "cell_type": "code",
      "source": [
        "# Compile with the specified architecture\n",
        "!nvcc parallel_reduction_shared_memory.cu -o parallel_reduction_shared_memory -gencode arch=compute_75,code=sm_75\n",
        "\n",
        "# Run the executable\n",
        "!./parallel_reduction_shared_memory"
      ],
      "metadata": {
        "colab": {
          "base_uri": "https://localhost:8080/"
        },
        "id": "5Y7nmArnaubc",
        "outputId": "e97c158a-6fec-491c-a779-7d01747f1e69"
      },
      "execution_count": 2,
      "outputs": [
        {
          "output_type": "stream",
          "name": "stdout",
          "text": [
            "Total Sum: 1024\n"
          ]
        }
      ]
    }
  ]
}